{
  "nbformat": 4,
  "nbformat_minor": 0,
  "metadata": {
    "colab": {
      "name": "Sistema_Classificação_Risco.ipynb",
      "provenance": [],
      "collapsed_sections": [],
      "toc_visible": true,
      "include_colab_link": true
    },
    "kernelspec": {
      "display_name": "Python 3",
      "language": "python",
      "name": "python3"
    },
    "language_info": {
      "codemirror_mode": {
        "name": "ipython",
        "version": 3
      },
      "file_extension": ".py",
      "mimetype": "text/x-python",
      "name": "python",
      "nbconvert_exporter": "python",
      "pygments_lexer": "ipython3",
      "version": "3.8.0"
    }
  },
  "cells": [
    {
      "cell_type": "markdown",
      "metadata": {
        "id": "view-in-github",
        "colab_type": "text"
      },
      "source": [
        "<a href=\"https://colab.research.google.com/github/peu-savio/peudatascience/blob/main/Sistema_Classifica%C3%A7%C3%A3o_Risco.ipynb\" target=\"_parent\"><img src=\"https://colab.research.google.com/assets/colab-badge.svg\" alt=\"Open In Colab\"/></a>"
      ]
    },
    {
      "cell_type": "markdown",
      "metadata": {
        "id": "WHSU8NShZedN"
      },
      "source": [
        "![alt text](https://encrypted-tbn0.gstatic.com/images?q=tbn%3AANd9GcTK4gQ9nhwHHaSXMHpeggWg7twwMCgb877smkRmtkmDeDoGF9Z6&usqp=CAU)"
      ]
    },
    {
      "cell_type": "markdown",
      "metadata": {
        "id": "7oiQVQi0AJ6D"
      },
      "source": [
        "# <font color='Blue'>Maratona da Ciência de Dados</font>\n",
        "\n",
        "### <font color='GREY'> Sistema de Classificação de Risco para Concessão de Empréstimo </font>  \n",
        "\n",
        "\n"
      ]
    },
    {
      "cell_type": "markdown",
      "metadata": {
        "id": "uSxTck1dGSxq"
      },
      "source": [
        "![alt text](https://webcomicms.net/sites/default/files/clipart/144257/animated-computer-pictures-144257-637982.gif)\n",
        "![alt text](https://blog.megaconsultas.com.br/wp-content/uploads/2019/06/Recuperar-o-Score-de-Cr%C3%A9dito.gif)\n"
      ]
    },
    {
      "cell_type": "markdown",
      "metadata": {
        "id": "28A1XXO92Lo2"
      },
      "source": [
        "# <font color='Black'> **Aula 1 - Usando Dados para Resolver Problemas com Ciência de Dados** </font>"
      ]
    },
    {
      "cell_type": "markdown",
      "metadata": {
        "id": "Eny3aIZaku8i"
      },
      "source": [
        "#1° Problema de Negócio "
      ]
    },
    {
      "cell_type": "markdown",
      "metadata": {
        "id": "7K8qMC313GIW"
      },
      "source": [
        "Nesse caso prático, nós precisamos construir um Sistema de classificação de Risco do cliente para aprovação de empréstimos.\n"
      ]
    },
    {
      "cell_type": "markdown",
      "metadata": {
        "id": "PzAHN0JzCKYd"
      },
      "source": [
        "![alt text](https://www.goias.gov.br/images/uploads/2017/04/Risco-de-Cr%C3%A9dito-finan%C3%A7as-contas.png)"
      ]
    },
    {
      "cell_type": "markdown",
      "metadata": {
        "id": "Fsv_E3STqmTg"
      },
      "source": [
        "##### **Fonte dos Dados**"
      ]
    },
    {
      "cell_type": "markdown",
      "metadata": {
        "id": "GFLspIFTEeJN"
      },
      "source": [
        "Usaremos a base de dados \"**risco.csv**\" originada por meio dos dados da **UCI Machine Learning**.\n",
        "\n",
        " Nesse portal a gente consegue realizar o download de vários datasets reais de empresas de todo o Mundo.\n",
        "\n",
        "**Link**:\n",
        "\n",
        "https://archive.ics.uci.edu/ml/index.php"
      ]
    },
    {
      "cell_type": "markdown",
      "metadata": {
        "id": "C4PaRjZAqwmx"
      },
      "source": [
        "###### **Arquitetura dos Dados** (AD)\n",
        "\n",
        "* **id_cliente**  : Número de identificação única do cliente\n",
        "* **inad**        : Índice de inadimplência do cliente\n",
        "* **Saldo_contas**: Índice referente aos saldos das contas corrente, poupança e aplicações do cliente\n",
        "* **Class_Renda** : Índice referente à classificação do cliente de acordo com sua renda.\n",
        "* **Anotações**   : Índice referente às anotações externas à empresa, tais como anotações SERASA / SPC / BACEN \n",
        "* **Risco**       : Risco do Cliente atribuído dadas as variáveis de análise do cliente"
      ]
    },
    {
      "cell_type": "markdown",
      "metadata": {
        "id": "-O1cmFgSku8j"
      },
      "source": [
        "# 2° Análise Exploratória dos Dados\n"
      ]
    },
    {
      "cell_type": "code",
      "metadata": {
        "id": "6BZ-jLOunczC"
      },
      "source": [
        "# Importando Bibliotecas Essenciais\n",
        "import pandas as pd\n",
        "import numpy as np\n",
        "import matplotlib.pyplot as plt\n",
        "import seaborn as sns\n",
        "from sklearn.model_selection import train_test_split\n",
        "from sklearn.neighbors import KNeighborsClassifier\n",
        "from sklearn import metrics\n",
        "%matplotlib inline"
      ],
      "execution_count": 1,
      "outputs": []
    },
    {
      "cell_type": "code",
      "metadata": {
        "id": "WKtERLr9n09B"
      },
      "source": [
        "# Se conectando com os dados - Nesse caso, a Fonte de Dados é um Arquivo\n",
        "dataset = pd.read_csv('/content/risco.csv')"
      ],
      "execution_count": 2,
      "outputs": []
    },
    {
      "cell_type": "code",
      "metadata": {
        "id": "lB0QoX8n3BEs",
        "colab": {
          "base_uri": "https://localhost:8080/",
          "height": 204
        },
        "outputId": "a9af728b-759b-45d5-c538-9387446476b5"
      },
      "source": [
        "# Imprime na Tela os primeiros registros\n",
        "dataset.head()"
      ],
      "execution_count": 3,
      "outputs": [
        {
          "output_type": "execute_result",
          "data": {
            "text/html": [
              "<div>\n",
              "<style scoped>\n",
              "    .dataframe tbody tr th:only-of-type {\n",
              "        vertical-align: middle;\n",
              "    }\n",
              "\n",
              "    .dataframe tbody tr th {\n",
              "        vertical-align: top;\n",
              "    }\n",
              "\n",
              "    .dataframe thead th {\n",
              "        text-align: right;\n",
              "    }\n",
              "</style>\n",
              "<table border=\"1\" class=\"dataframe\">\n",
              "  <thead>\n",
              "    <tr style=\"text-align: right;\">\n",
              "      <th></th>\n",
              "      <th>id_cliente</th>\n",
              "      <th>anot_cadastrais</th>\n",
              "      <th>indice_inad</th>\n",
              "      <th>class_renda</th>\n",
              "      <th>saldo_contas</th>\n",
              "      <th>Risco</th>\n",
              "    </tr>\n",
              "  </thead>\n",
              "  <tbody>\n",
              "    <tr>\n",
              "      <th>0</th>\n",
              "      <td>0</td>\n",
              "      <td>5.1</td>\n",
              "      <td>3.5</td>\n",
              "      <td>1.4</td>\n",
              "      <td>0.2</td>\n",
              "      <td>Risco_Alto</td>\n",
              "    </tr>\n",
              "    <tr>\n",
              "      <th>1</th>\n",
              "      <td>1</td>\n",
              "      <td>4.9</td>\n",
              "      <td>3.0</td>\n",
              "      <td>1.4</td>\n",
              "      <td>0.2</td>\n",
              "      <td>Risco_Alto</td>\n",
              "    </tr>\n",
              "    <tr>\n",
              "      <th>2</th>\n",
              "      <td>2</td>\n",
              "      <td>4.7</td>\n",
              "      <td>3.2</td>\n",
              "      <td>1.3</td>\n",
              "      <td>0.2</td>\n",
              "      <td>Risco_Alto</td>\n",
              "    </tr>\n",
              "    <tr>\n",
              "      <th>3</th>\n",
              "      <td>3</td>\n",
              "      <td>4.6</td>\n",
              "      <td>3.1</td>\n",
              "      <td>1.5</td>\n",
              "      <td>0.2</td>\n",
              "      <td>Risco_Alto</td>\n",
              "    </tr>\n",
              "    <tr>\n",
              "      <th>4</th>\n",
              "      <td>4</td>\n",
              "      <td>5.0</td>\n",
              "      <td>3.6</td>\n",
              "      <td>1.4</td>\n",
              "      <td>0.2</td>\n",
              "      <td>Risco_Alto</td>\n",
              "    </tr>\n",
              "  </tbody>\n",
              "</table>\n",
              "</div>"
            ],
            "text/plain": [
              "   id_cliente  anot_cadastrais  ...  saldo_contas       Risco\n",
              "0           0              5.1  ...           0.2  Risco_Alto\n",
              "1           1              4.9  ...           0.2  Risco_Alto\n",
              "2           2              4.7  ...           0.2  Risco_Alto\n",
              "3           3              4.6  ...           0.2  Risco_Alto\n",
              "4           4              5.0  ...           0.2  Risco_Alto\n",
              "\n",
              "[5 rows x 6 columns]"
            ]
          },
          "metadata": {
            "tags": []
          },
          "execution_count": 3
        }
      ]
    },
    {
      "cell_type": "code",
      "metadata": {
        "id": "FSLSYaIfHxo8",
        "colab": {
          "base_uri": "https://localhost:8080/"
        },
        "outputId": "6d1f238c-5a38-4a75-9580-7907f97835ef"
      },
      "source": [
        "# Informações do Dataset - Tipo das Variáveis, Quantidade de linhas (registros) e colunas (variáveis/features)\n",
        "dataset.info()"
      ],
      "execution_count": 4,
      "outputs": [
        {
          "output_type": "stream",
          "text": [
            "<class 'pandas.core.frame.DataFrame'>\n",
            "RangeIndex: 150 entries, 0 to 149\n",
            "Data columns (total 6 columns):\n",
            " #   Column           Non-Null Count  Dtype  \n",
            "---  ------           --------------  -----  \n",
            " 0   id_cliente       150 non-null    int64  \n",
            " 1   anot_cadastrais  150 non-null    float64\n",
            " 2   indice_inad      150 non-null    float64\n",
            " 3   class_renda      150 non-null    float64\n",
            " 4   saldo_contas     150 non-null    float64\n",
            " 5   Risco            150 non-null    object \n",
            "dtypes: float64(4), int64(1), object(1)\n",
            "memory usage: 7.2+ KB\n"
          ],
          "name": "stdout"
        }
      ]
    },
    {
      "cell_type": "code",
      "metadata": {
        "id": "DA8sCmcbcrhN",
        "colab": {
          "base_uri": "https://localhost:8080/"
        },
        "outputId": "768be203-a9ff-4086-86d0-e18df7703a48"
      },
      "source": [
        "#Verifica as dimensões do dataset (antes de vírgula são linhas    ,     depois da vírgula são colunas)\n",
        "dataset.shape"
      ],
      "execution_count": 5,
      "outputs": [
        {
          "output_type": "execute_result",
          "data": {
            "text/plain": [
              "(150, 6)"
            ]
          },
          "metadata": {
            "tags": []
          },
          "execution_count": 5
        }
      ]
    },
    {
      "cell_type": "code",
      "metadata": {
        "id": "tSKaKAxHku8s",
        "colab": {
          "base_uri": "https://localhost:8080/"
        },
        "outputId": "3873ee5e-4822-4b9e-b9ed-60f039a6647b"
      },
      "source": [
        "# Cria uma função para imprimir na tela o resultado da função SHAPE\n",
        "print(f\"Dataset tem {dataset.shape[0]} linhas e {dataset.shape[1]} colunas.\")"
      ],
      "execution_count": 6,
      "outputs": [
        {
          "output_type": "stream",
          "text": [
            "Dataset tem 150 linhas e 6 colunas.\n"
          ],
          "name": "stdout"
        }
      ]
    },
    {
      "cell_type": "code",
      "metadata": {
        "id": "2G8LjcZ4b_po",
        "colab": {
          "base_uri": "https://localhost:8080/",
          "height": 297
        },
        "outputId": "053efd50-b452-4948-b8b1-2603bbf5cdb2"
      },
      "source": [
        "#Estatísticas descritivas das variáveis numéricas\n",
        "dataset.describe()"
      ],
      "execution_count": 7,
      "outputs": [
        {
          "output_type": "execute_result",
          "data": {
            "text/html": [
              "<div>\n",
              "<style scoped>\n",
              "    .dataframe tbody tr th:only-of-type {\n",
              "        vertical-align: middle;\n",
              "    }\n",
              "\n",
              "    .dataframe tbody tr th {\n",
              "        vertical-align: top;\n",
              "    }\n",
              "\n",
              "    .dataframe thead th {\n",
              "        text-align: right;\n",
              "    }\n",
              "</style>\n",
              "<table border=\"1\" class=\"dataframe\">\n",
              "  <thead>\n",
              "    <tr style=\"text-align: right;\">\n",
              "      <th></th>\n",
              "      <th>id_cliente</th>\n",
              "      <th>anot_cadastrais</th>\n",
              "      <th>indice_inad</th>\n",
              "      <th>class_renda</th>\n",
              "      <th>saldo_contas</th>\n",
              "    </tr>\n",
              "  </thead>\n",
              "  <tbody>\n",
              "    <tr>\n",
              "      <th>count</th>\n",
              "      <td>150.000000</td>\n",
              "      <td>150.000000</td>\n",
              "      <td>150.000000</td>\n",
              "      <td>150.000000</td>\n",
              "      <td>150.000000</td>\n",
              "    </tr>\n",
              "    <tr>\n",
              "      <th>mean</th>\n",
              "      <td>74.500000</td>\n",
              "      <td>5.843333</td>\n",
              "      <td>3.054000</td>\n",
              "      <td>3.758667</td>\n",
              "      <td>1.198667</td>\n",
              "    </tr>\n",
              "    <tr>\n",
              "      <th>std</th>\n",
              "      <td>43.445368</td>\n",
              "      <td>0.828066</td>\n",
              "      <td>0.433594</td>\n",
              "      <td>1.764420</td>\n",
              "      <td>0.763161</td>\n",
              "    </tr>\n",
              "    <tr>\n",
              "      <th>min</th>\n",
              "      <td>0.000000</td>\n",
              "      <td>4.300000</td>\n",
              "      <td>2.000000</td>\n",
              "      <td>1.000000</td>\n",
              "      <td>0.100000</td>\n",
              "    </tr>\n",
              "    <tr>\n",
              "      <th>25%</th>\n",
              "      <td>37.250000</td>\n",
              "      <td>5.100000</td>\n",
              "      <td>2.800000</td>\n",
              "      <td>1.600000</td>\n",
              "      <td>0.300000</td>\n",
              "    </tr>\n",
              "    <tr>\n",
              "      <th>50%</th>\n",
              "      <td>74.500000</td>\n",
              "      <td>5.800000</td>\n",
              "      <td>3.000000</td>\n",
              "      <td>4.350000</td>\n",
              "      <td>1.300000</td>\n",
              "    </tr>\n",
              "    <tr>\n",
              "      <th>75%</th>\n",
              "      <td>111.750000</td>\n",
              "      <td>6.400000</td>\n",
              "      <td>3.300000</td>\n",
              "      <td>5.100000</td>\n",
              "      <td>1.800000</td>\n",
              "    </tr>\n",
              "    <tr>\n",
              "      <th>max</th>\n",
              "      <td>149.000000</td>\n",
              "      <td>7.900000</td>\n",
              "      <td>4.400000</td>\n",
              "      <td>6.900000</td>\n",
              "      <td>2.500000</td>\n",
              "    </tr>\n",
              "  </tbody>\n",
              "</table>\n",
              "</div>"
            ],
            "text/plain": [
              "       id_cliente  anot_cadastrais  indice_inad  class_renda  saldo_contas\n",
              "count  150.000000       150.000000   150.000000   150.000000    150.000000\n",
              "mean    74.500000         5.843333     3.054000     3.758667      1.198667\n",
              "std     43.445368         0.828066     0.433594     1.764420      0.763161\n",
              "min      0.000000         4.300000     2.000000     1.000000      0.100000\n",
              "25%     37.250000         5.100000     2.800000     1.600000      0.300000\n",
              "50%     74.500000         5.800000     3.000000     4.350000      1.300000\n",
              "75%    111.750000         6.400000     3.300000     5.100000      1.800000\n",
              "max    149.000000         7.900000     4.400000     6.900000      2.500000"
            ]
          },
          "metadata": {
            "tags": []
          },
          "execution_count": 7
        }
      ]
    },
    {
      "cell_type": "code",
      "metadata": {
        "id": "Xao3kHmycFGK",
        "colab": {
          "base_uri": "https://localhost:8080/"
        },
        "outputId": "2bee1459-7c83-4ac3-e742-35aa9e9fe801"
      },
      "source": [
        "# Tabela de Frequência da Variável \"risco\" - Nossa Classe ou Label ou Target\n",
        "dataset['Risco'].value_counts()\n"
      ],
      "execution_count": 8,
      "outputs": [
        {
          "output_type": "execute_result",
          "data": {
            "text/plain": [
              "Risco_Baixo    50\n",
              "Risco_Alto     50\n",
              "Risco_Medio    50\n",
              "Name: Risco, dtype: int64"
            ]
          },
          "metadata": {
            "tags": []
          },
          "execution_count": 8
        }
      ]
    },
    {
      "cell_type": "code",
      "metadata": {
        "id": "lfcQBXx2zDNj",
        "colab": {
          "base_uri": "https://localhost:8080/"
        },
        "outputId": "56560a3d-6385-42ab-f817-abc0c8c6bf8f"
      },
      "source": [
        "# Forma adicional de criar a Tab. de Frequência\n",
        "dataset.Risco.value_counts()"
      ],
      "execution_count": 9,
      "outputs": [
        {
          "output_type": "execute_result",
          "data": {
            "text/plain": [
              "Risco_Baixo    50\n",
              "Risco_Alto     50\n",
              "Risco_Medio    50\n",
              "Name: Risco, dtype: int64"
            ]
          },
          "metadata": {
            "tags": []
          },
          "execution_count": 9
        }
      ]
    },
    {
      "cell_type": "code",
      "metadata": {
        "id": "1fncTNJ136vB",
        "colab": {
          "base_uri": "https://localhost:8080/",
          "height": 334
        },
        "outputId": "25f41ba2-a6c7-486b-987d-5554a8d61c48"
      },
      "source": [
        "# Cria um gráfico de barras da variável Target\n",
        "sns.countplot(dataset['Risco'])"
      ],
      "execution_count": 10,
      "outputs": [
        {
          "output_type": "stream",
          "text": [
            "/usr/local/lib/python3.6/dist-packages/seaborn/_decorators.py:43: FutureWarning: Pass the following variable as a keyword arg: x. From version 0.12, the only valid positional argument will be `data`, and passing other arguments without an explicit keyword will result in an error or misinterpretation.\n",
            "  FutureWarning\n"
          ],
          "name": "stderr"
        },
        {
          "output_type": "display_data",
          "data": {
            "image/png": "[encoded data removed]",
            "text/plain": [
              "<Figure size 432x288 with 1 Axes>"
            ]
          },
          "metadata": {
            "tags": [],
            "needs_background": "light"
          }
        }
      ]
    },
    {
      "cell_type": "code",
      "metadata": {
        "id": "Pr-7J--Db_14",
        "colab": {
          "base_uri": "https://localhost:8080/"
        },
        "outputId": "00ed28a4-041a-492d-d7ce-807345d3418d"
      },
      "source": [
        "# Verifica a existência de valores faltantes\n",
        "dataset.isna().sum()"
      ],
      "execution_count": 11,
      "outputs": [
        {
          "output_type": "execute_result",
          "data": {
            "text/plain": [
              "id_cliente         0\n",
              "anot_cadastrais    0\n",
              "indice_inad        0\n",
              "class_renda        0\n",
              "saldo_contas       0\n",
              "Risco              0\n",
              "dtype: int64"
            ]
          },
          "metadata": {
            "tags": []
          },
          "execution_count": 11
        }
      ]
    },
    {
      "cell_type": "code",
      "metadata": {
        "id": "uduJWrPw-0YB"
      },
      "source": [
        "#Eliminar a coluna de identificação, pois ela não é variável explicativa, é somente a identificação do cliente7\n",
        "dataset = dataset.drop(columns='id_cliente')"
      ],
      "execution_count": 12,
      "outputs": []
    },
    {
      "cell_type": "code",
      "metadata": {
        "id": "i2w2ikIl_IGf",
        "colab": {
          "base_uri": "https://localhost:8080/",
          "height": 419
        },
        "outputId": "4514a867-90cd-4b94-e591-8dff3fdd9990"
      },
      "source": [
        "#Printa o dataset na tela\n",
        "dataset"
      ],
      "execution_count": 13,
      "outputs": [
        {
          "output_type": "execute_result",
          "data": {
            "text/html": [
              "<div>\n",
              "<style scoped>\n",
              "    .dataframe tbody tr th:only-of-type {\n",
              "        vertical-align: middle;\n",
              "    }\n",
              "\n",
              "    .dataframe tbody tr th {\n",
              "        vertical-align: top;\n",
              "    }\n",
              "\n",
              "    .dataframe thead th {\n",
              "        text-align: right;\n",
              "    }\n",
              "</style>\n",
              "<table border=\"1\" class=\"dataframe\">\n",
              "  <thead>\n",
              "    <tr style=\"text-align: right;\">\n",
              "      <th></th>\n",
              "      <th>anot_cadastrais</th>\n",
              "      <th>indice_inad</th>\n",
              "      <th>class_renda</th>\n",
              "      <th>saldo_contas</th>\n",
              "      <th>Risco</th>\n",
              "    </tr>\n",
              "  </thead>\n",
              "  <tbody>\n",
              "    <tr>\n",
              "      <th>0</th>\n",
              "      <td>5.1</td>\n",
              "      <td>3.5</td>\n",
              "      <td>1.4</td>\n",
              "      <td>0.2</td>\n",
              "      <td>Risco_Alto</td>\n",
              "    </tr>\n",
              "    <tr>\n",
              "      <th>1</th>\n",
              "      <td>4.9</td>\n",
              "      <td>3.0</td>\n",
              "      <td>1.4</td>\n",
              "      <td>0.2</td>\n",
              "      <td>Risco_Alto</td>\n",
              "    </tr>\n",
              "    <tr>\n",
              "      <th>2</th>\n",
              "      <td>4.7</td>\n",
              "      <td>3.2</td>\n",
              "      <td>1.3</td>\n",
              "      <td>0.2</td>\n",
              "      <td>Risco_Alto</td>\n",
              "    </tr>\n",
              "    <tr>\n",
              "      <th>3</th>\n",
              "      <td>4.6</td>\n",
              "      <td>3.1</td>\n",
              "      <td>1.5</td>\n",
              "      <td>0.2</td>\n",
              "      <td>Risco_Alto</td>\n",
              "    </tr>\n",
              "    <tr>\n",
              "      <th>4</th>\n",
              "      <td>5.0</td>\n",
              "      <td>3.6</td>\n",
              "      <td>1.4</td>\n",
              "      <td>0.2</td>\n",
              "      <td>Risco_Alto</td>\n",
              "    </tr>\n",
              "    <tr>\n",
              "      <th>...</th>\n",
              "      <td>...</td>\n",
              "      <td>...</td>\n",
              "      <td>...</td>\n",
              "      <td>...</td>\n",
              "      <td>...</td>\n",
              "    </tr>\n",
              "    <tr>\n",
              "      <th>145</th>\n",
              "      <td>6.7</td>\n",
              "      <td>3.0</td>\n",
              "      <td>5.2</td>\n",
              "      <td>2.3</td>\n",
              "      <td>Risco_Baixo</td>\n",
              "    </tr>\n",
              "    <tr>\n",
              "      <th>146</th>\n",
              "      <td>6.3</td>\n",
              "      <td>2.5</td>\n",
              "      <td>5.0</td>\n",
              "      <td>1.9</td>\n",
              "      <td>Risco_Baixo</td>\n",
              "    </tr>\n",
              "    <tr>\n",
              "      <th>147</th>\n",
              "      <td>6.5</td>\n",
              "      <td>3.0</td>\n",
              "      <td>5.2</td>\n",
              "      <td>2.0</td>\n",
              "      <td>Risco_Baixo</td>\n",
              "    </tr>\n",
              "    <tr>\n",
              "      <th>148</th>\n",
              "      <td>6.2</td>\n",
              "      <td>3.4</td>\n",
              "      <td>5.4</td>\n",
              "      <td>2.3</td>\n",
              "      <td>Risco_Baixo</td>\n",
              "    </tr>\n",
              "    <tr>\n",
              "      <th>149</th>\n",
              "      <td>5.9</td>\n",
              "      <td>3.0</td>\n",
              "      <td>5.1</td>\n",
              "      <td>1.8</td>\n",
              "      <td>Risco_Baixo</td>\n",
              "    </tr>\n",
              "  </tbody>\n",
              "</table>\n",
              "<p>150 rows × 5 columns</p>\n",
              "</div>"
            ],
            "text/plain": [
              "     anot_cadastrais  indice_inad  class_renda  saldo_contas        Risco\n",
              "0                5.1          3.5          1.4           0.2   Risco_Alto\n",
              "1                4.9          3.0          1.4           0.2   Risco_Alto\n",
              "2                4.7          3.2          1.3           0.2   Risco_Alto\n",
              "3                4.6          3.1          1.5           0.2   Risco_Alto\n",
              "4                5.0          3.6          1.4           0.2   Risco_Alto\n",
              "..               ...          ...          ...           ...          ...\n",
              "145              6.7          3.0          5.2           2.3  Risco_Baixo\n",
              "146              6.3          2.5          5.0           1.9  Risco_Baixo\n",
              "147              6.5          3.0          5.2           2.0  Risco_Baixo\n",
              "148              6.2          3.4          5.4           2.3  Risco_Baixo\n",
              "149              5.9          3.0          5.1           1.8  Risco_Baixo\n",
              "\n",
              "[150 rows x 5 columns]"
            ]
          },
          "metadata": {
            "tags": []
          },
          "execution_count": 13
        }
      ]
    },
    {
      "cell_type": "code",
      "metadata": {
        "id": "DfFSzpSMAoFU",
        "colab": {
          "base_uri": "https://localhost:8080/",
          "height": 268
        },
        "outputId": "08f628ea-4252-47d2-90b0-b3ee61594e86"
      },
      "source": [
        "# Cria um gráfico tipo box and whisker plots (o famoso boxplot)\n",
        "from matplotlib import pyplot\n",
        "dataset.plot(kind='box', subplots=True, layout=(2,2), sharex=False, sharey=False)\n",
        "pyplot.show()"
      ],
      "execution_count": 14,
      "outputs": [
        {
          "output_type": "display_data",
          "data": {
            "image/png": "[encoded data removed]",
            "text/plain": [
              "<Figure size 432x288 with 4 Axes>"
            ]
          },
          "metadata": {
            "tags": [],
            "needs_background": "light"
          }
        }
      ]
    },
    {
      "cell_type": "code",
      "metadata": {
        "id": "89wQbfgzBqQS",
        "colab": {
          "base_uri": "https://localhost:8080/",
          "height": 281
        },
        "outputId": "69b50381-26d1-457e-f67b-79d5c7ae3356"
      },
      "source": [
        "#cria um gráfico conhecido como histohrama\n",
        "dataset.hist()\n",
        "plt.show()\n"
      ],
      "execution_count": 15,
      "outputs": [
        {
          "output_type": "display_data",
          "data": {
            "image/png": "[encoded data removed]",
            "text/plain": [
              "<Figure size 432x288 with 4 Axes>"
            ]
          },
          "metadata": {
            "tags": [],
            "needs_background": "light"
          }
        }
      ]
    },
    {
      "cell_type": "code",
      "metadata": {
        "id": "p_dvoe928qrU",
        "colab": {
          "base_uri": "https://localhost:8080/",
          "height": 743
        },
        "outputId": "cb1a8050-1ed8-4de2-f912-7b279d01be54"
      },
      "source": [
        "# Criação do Gráfico de dispersão (scatter) conhecido como pairplot\n",
        "sns.pairplot(dataset, hue='Risco', kind=\"reg\") # kind=reg é a reta de regressão"
      ],
      "execution_count": 16,
      "outputs": [
        {
          "output_type": "execute_result",
          "data": {
            "text/plain": [
              "<seaborn.axisgrid.PairGrid at 0x7fc2577614e0>"
            ]
          },
          "metadata": {
            "tags": []
          },
          "execution_count": 16
        },
        {
          "output_type": "display_data",
          "data": {
            "image/png": "[encoded data removed]",
            "text/plain": [
              "<Figure size 817.5x720 with 20 Axes>"
            ]
          },
          "metadata": {
            "tags": [],
            "needs_background": "light"
          }
        }
      ]
    },
    {
      "cell_type": "code",
      "metadata": {
        "id": "Y00FGE3h_bnG",
        "colab": {
          "base_uri": "https://localhost:8080/",
          "height": 743
        },
        "outputId": "e9ba553f-47f5-4bcd-8de1-e22c0118f09d"
      },
      "source": [
        "# Criação do Gráfico de dispersão sem agregar pelo TARGET\n",
        "sns.pairplot(dataset,kind=\"reg\")"
      ],
      "execution_count": 17,
      "outputs": [
        {
          "output_type": "execute_result",
          "data": {
            "text/plain": [
              "<seaborn.axisgrid.PairGrid at 0x7fc2578bbeb8>"
            ]
          },
          "metadata": {
            "tags": []
          },
          "execution_count": 17
        },
        {
          "output_type": "display_data",
          "data": {
            "image/png": "[encoded data removed]",
            "text/plain": [
              "<Figure size 720x720 with 20 Axes>"
            ]
          },
          "metadata": {
            "tags": [],
            "needs_background": "light"
          }
        }
      ]
    },
    {
      "cell_type": "markdown",
      "metadata": {
        "id": "DM2nuyRTku81"
      },
      "source": [
        "# 3° Pré-Processamento dos Dados"
      ]
    },
    {
      "cell_type": "code",
      "metadata": {
        "id": "G5WuUWRFn4j8"
      },
      "source": [
        "#3 Separando as Variáveis de Entrada e Saída do Modelo\n",
        "X = dataset.iloc[:,:-1].values  #variáveis independentes\n",
        "y = dataset.iloc[:,-1].values  #Target/labe/class/variável dependente"
      ],
      "execution_count": 19,
      "outputs": []
    },
    {
      "cell_type": "code",
      "metadata": {
        "id": "-bZ82kVbn7Ga",
        "colab": {
          "base_uri": "https://localhost:8080/"
        },
        "outputId": "d96f7e84-b67f-43ab-f925-eec81c5d7843"
      },
      "source": [
        "#Print das variáveis X e Y\n",
        "print(\"\\nVariáveis de Entrada da avaliação:\\n\\n\", X[:3])\n",
        "print(\"\\nRisco - Variável a ser Predita :\\n\\n\", y[:3])"
      ],
      "execution_count": 20,
      "outputs": [
        {
          "output_type": "stream",
          "text": [
            "\n",
            "Variáveis de Entrada da avaliação:\n",
            "\n",
            " [[5.1 3.5 1.4 0.2]\n",
            " [4.9 3.  1.4 0.2]\n",
            " [4.7 3.2 1.3 0.2]]\n",
            "\n",
            "Risco - Variável a ser Predita :\n",
            "\n",
            " ['Risco_Alto' 'Risco_Alto' 'Risco_Alto']\n"
          ],
          "name": "stdout"
        }
      ]
    },
    {
      "cell_type": "code",
      "metadata": {
        "id": "TnFgcVnO4R4A",
        "colab": {
          "base_uri": "https://localhost:8080/"
        },
        "outputId": "96341863-3453-46d9-e3d8-b6507882a809"
      },
      "source": [
        "X"
      ],
      "execution_count": 21,
      "outputs": [
        {
          "output_type": "execute_result",
          "data": {
            "text/plain": [
              "array([[5.1, 3.5, 1.4, 0.2],\n",
              "       [4.9, 3. , 1.4, 0.2],\n",
              "       [4.7, 3.2, 1.3, 0.2],\n",
              "       [4.6, 3.1, 1.5, 0.2],\n",
              "       [5. , 3.6, 1.4, 0.2],\n",
              "       [5.4, 3.9, 1.7, 0.4],\n",
              "       [4.6, 3.4, 1.4, 0.3],\n",
              "       [5. , 3.4, 1.5, 0.2],\n",
              "       [4.4, 2.9, 1.4, 0.2],\n",
              "       [4.9, 3.1, 1.5, 0.1],\n",
              "       [5.4, 3.7, 1.5, 0.2],\n",
              "       [4.8, 3.4, 1.6, 0.2],\n",
              "       [4.8, 3. , 1.4, 0.1],\n",
              "       [4.3, 3. , 1.1, 0.1],\n",
              "       [5.8, 4. , 1.2, 0.2],\n",
              "       [5.7, 4.4, 1.5, 0.4],\n",
              "       [5.4, 3.9, 1.3, 0.4],\n",
              "       [5.1, 3.5, 1.4, 0.3],\n",
              "       [5.7, 3.8, 1.7, 0.3],\n",
              "       [5.1, 3.8, 1.5, 0.3],\n",
              "       [5.4, 3.4, 1.7, 0.2],\n",
              "       [5.1, 3.7, 1.5, 0.4],\n",
              "       [4.6, 3.6, 1. , 0.2],\n",
              "       [5.1, 3.3, 1.7, 0.5],\n",
              "       [4.8, 3.4, 1.9, 0.2],\n",
              "       [5. , 3. , 1.6, 0.2],\n",
              "       [5. , 3.4, 1.6, 0.4],\n",
              "       [5.2, 3.5, 1.5, 0.2],\n",
              "       [5.2, 3.4, 1.4, 0.2],\n",
              "       [4.7, 3.2, 1.6, 0.2],\n",
              "       [4.8, 3.1, 1.6, 0.2],\n",
              "       [5.4, 3.4, 1.5, 0.4],\n",
              "       [5.2, 4.1, 1.5, 0.1],\n",
              "       [5.5, 4.2, 1.4, 0.2],\n",
              "       [4.9, 3.1, 1.5, 0.1],\n",
              "       [5. , 3.2, 1.2, 0.2],\n",
              "       [5.5, 3.5, 1.3, 0.2],\n",
              "       [4.9, 3.1, 1.5, 0.1],\n",
              "       [4.4, 3. , 1.3, 0.2],\n",
              "       [5.1, 3.4, 1.5, 0.2],\n",
              "       [5. , 3.5, 1.3, 0.3],\n",
              "       [4.5, 2.3, 1.3, 0.3],\n",
              "       [4.4, 3.2, 1.3, 0.2],\n",
              "       [5. , 3.5, 1.6, 0.6],\n",
              "       [5.1, 3.8, 1.9, 0.4],\n",
              "       [4.8, 3. , 1.4, 0.3],\n",
              "       [5.1, 3.8, 1.6, 0.2],\n",
              "       [4.6, 3.2, 1.4, 0.2],\n",
              "       [5.3, 3.7, 1.5, 0.2],\n",
              "       [5. , 3.3, 1.4, 0.2],\n",
              "       [7. , 3.2, 4.7, 1.4],\n",
              "       [6.4, 3.2, 4.5, 1.5],\n",
              "       [6.9, 3.1, 4.9, 1.5],\n",
              "       [5.5, 2.3, 4. , 1.3],\n",
              "       [6.5, 2.8, 4.6, 1.5],\n",
              "       [5.7, 2.8, 4.5, 1.3],\n",
              "       [6.3, 3.3, 4.7, 1.6],\n",
              "       [4.9, 2.4, 3.3, 1. ],\n",
              "       [6.6, 2.9, 4.6, 1.3],\n",
              "       [5.2, 2.7, 3.9, 1.4],\n",
              "       [5. , 2. , 3.5, 1. ],\n",
              "       [5.9, 3. , 4.2, 1.5],\n",
              "       [6. , 2.2, 4. , 1. ],\n",
              "       [6.1, 2.9, 4.7, 1.4],\n",
              "       [5.6, 2.9, 3.6, 1.3],\n",
              "       [6.7, 3.1, 4.4, 1.4],\n",
              "       [5.6, 3. , 4.5, 1.5],\n",
              "       [5.8, 2.7, 4.1, 1. ],\n",
              "       [6.2, 2.2, 4.5, 1.5],\n",
              "       [5.6, 2.5, 3.9, 1.1],\n",
              "       [5.9, 3.2, 4.8, 1.8],\n",
              "       [6.1, 2.8, 4. , 1.3],\n",
              "       [6.3, 2.5, 4.9, 1.5],\n",
              "       [6.1, 2.8, 4.7, 1.2],\n",
              "       [6.4, 2.9, 4.3, 1.3],\n",
              "       [6.6, 3. , 4.4, 1.4],\n",
              "       [6.8, 2.8, 4.8, 1.4],\n",
              "       [6.7, 3. , 5. , 1.7],\n",
              "       [6. , 2.9, 4.5, 1.5],\n",
              "       [5.7, 2.6, 3.5, 1. ],\n",
              "       [5.5, 2.4, 3.8, 1.1],\n",
              "       [5.5, 2.4, 3.7, 1. ],\n",
              "       [5.8, 2.7, 3.9, 1.2],\n",
              "       [6. , 2.7, 5.1, 1.6],\n",
              "       [5.4, 3. , 4.5, 1.5],\n",
              "       [6. , 3.4, 4.5, 1.6],\n",
              "       [6.7, 3.1, 4.7, 1.5],\n",
              "       [6.3, 2.3, 4.4, 1.3],\n",
              "       [5.6, 3. , 4.1, 1.3],\n",
              "       [5.5, 2.5, 4. , 1.3],\n",
              "       [5.5, 2.6, 4.4, 1.2],\n",
              "       [6.1, 3. , 4.6, 1.4],\n",
              "       [5.8, 2.6, 4. , 1.2],\n",
              "       [5. , 2.3, 3.3, 1. ],\n",
              "       [5.6, 2.7, 4.2, 1.3],\n",
              "       [5.7, 3. , 4.2, 1.2],\n",
              "       [5.7, 2.9, 4.2, 1.3],\n",
              "       [6.2, 2.9, 4.3, 1.3],\n",
              "       [5.1, 2.5, 3. , 1.1],\n",
              "       [5.7, 2.8, 4.1, 1.3],\n",
              "       [6.3, 3.3, 6. , 2.5],\n",
              "       [5.8, 2.7, 5.1, 1.9],\n",
              "       [7.1, 3. , 5.9, 2.1],\n",
              "       [6.3, 2.9, 5.6, 1.8],\n",
              "       [6.5, 3. , 5.8, 2.2],\n",
              "       [7.6, 3. , 6.6, 2.1],\n",
              "       [4.9, 2.5, 4.5, 1.7],\n",
              "       [7.3, 2.9, 6.3, 1.8],\n",
              "       [6.7, 2.5, 5.8, 1.8],\n",
              "       [7.2, 3.6, 6.1, 2.5],\n",
              "       [6.5, 3.2, 5.1, 2. ],\n",
              "       [6.4, 2.7, 5.3, 1.9],\n",
              "       [6.8, 3. , 5.5, 2.1],\n",
              "       [5.7, 2.5, 5. , 2. ],\n",
              "       [5.8, 2.8, 5.1, 2.4],\n",
              "       [6.4, 3.2, 5.3, 2.3],\n",
              "       [6.5, 3. , 5.5, 1.8],\n",
              "       [7.7, 3.8, 6.7, 2.2],\n",
              "       [7.7, 2.6, 6.9, 2.3],\n",
              "       [6. , 2.2, 5. , 1.5],\n",
              "       [6.9, 3.2, 5.7, 2.3],\n",
              "       [5.6, 2.8, 4.9, 2. ],\n",
              "       [7.7, 2.8, 6.7, 2. ],\n",
              "       [6.3, 2.7, 4.9, 1.8],\n",
              "       [6.7, 3.3, 5.7, 2.1],\n",
              "       [7.2, 3.2, 6. , 1.8],\n",
              "       [6.2, 2.8, 4.8, 1.8],\n",
              "       [6.1, 3. , 4.9, 1.8],\n",
              "       [6.4, 2.8, 5.6, 2.1],\n",
              "       [7.2, 3. , 5.8, 1.6],\n",
              "       [7.4, 2.8, 6.1, 1.9],\n",
              "       [7.9, 3.8, 6.4, 2. ],\n",
              "       [6.4, 2.8, 5.6, 2.2],\n",
              "       [6.3, 2.8, 5.1, 1.5],\n",
              "       [6.1, 2.6, 5.6, 1.4],\n",
              "       [7.7, 3. , 6.1, 2.3],\n",
              "       [6.3, 3.4, 5.6, 2.4],\n",
              "       [6.4, 3.1, 5.5, 1.8],\n",
              "       [6. , 3. , 4.8, 1.8],\n",
              "       [6.9, 3.1, 5.4, 2.1],\n",
              "       [6.7, 3.1, 5.6, 2.4],\n",
              "       [6.9, 3.1, 5.1, 2.3],\n",
              "       [5.8, 2.7, 5.1, 1.9],\n",
              "       [6.8, 3.2, 5.9, 2.3],\n",
              "       [6.7, 3.3, 5.7, 2.5],\n",
              "       [6.7, 3. , 5.2, 2.3],\n",
              "       [6.3, 2.5, 5. , 1.9],\n",
              "       [6.5, 3. , 5.2, 2. ],\n",
              "       [6.2, 3.4, 5.4, 2.3],\n",
              "       [5.9, 3. , 5.1, 1.8]])"
            ]
          },
          "metadata": {
            "tags": []
          },
          "execution_count": 21
        }
      ]
    },
    {
      "cell_type": "code",
      "metadata": {
        "id": "ALfXSeZ1KJ4b",
        "colab": {
          "base_uri": "https://localhost:8080/"
        },
        "outputId": "3abdd410-2322-4cf4-8d04-c5f2d9622021"
      },
      "source": [
        "y"
      ],
      "execution_count": 22,
      "outputs": [
        {
          "output_type": "execute_result",
          "data": {
            "text/plain": [
              "array(['Risco_Alto', 'Risco_Alto', 'Risco_Alto', 'Risco_Alto',\n",
              "       'Risco_Alto', 'Risco_Alto', 'Risco_Alto', 'Risco_Alto',\n",
              "       'Risco_Alto', 'Risco_Alto', 'Risco_Alto', 'Risco_Alto',\n",
              "       'Risco_Alto', 'Risco_Alto', 'Risco_Alto', 'Risco_Alto',\n",
              "       'Risco_Alto', 'Risco_Alto', 'Risco_Alto', 'Risco_Alto',\n",
              "       'Risco_Alto', 'Risco_Alto', 'Risco_Alto', 'Risco_Alto',\n",
              "       'Risco_Alto', 'Risco_Alto', 'Risco_Alto', 'Risco_Alto',\n",
              "       'Risco_Alto', 'Risco_Alto', 'Risco_Alto', 'Risco_Alto',\n",
              "       'Risco_Alto', 'Risco_Alto', 'Risco_Alto', 'Risco_Alto',\n",
              "       'Risco_Alto', 'Risco_Alto', 'Risco_Alto', 'Risco_Alto',\n",
              "       'Risco_Alto', 'Risco_Alto', 'Risco_Alto', 'Risco_Alto',\n",
              "       'Risco_Alto', 'Risco_Alto', 'Risco_Alto', 'Risco_Alto',\n",
              "       'Risco_Alto', 'Risco_Alto', 'Risco_Medio', 'Risco_Medio',\n",
              "       'Risco_Medio', 'Risco_Medio', 'Risco_Medio', 'Risco_Medio',\n",
              "       'Risco_Medio', 'Risco_Medio', 'Risco_Medio', 'Risco_Medio',\n",
              "       'Risco_Medio', 'Risco_Medio', 'Risco_Medio', 'Risco_Medio',\n",
              "       'Risco_Medio', 'Risco_Medio', 'Risco_Medio', 'Risco_Medio',\n",
              "       'Risco_Medio', 'Risco_Medio', 'Risco_Medio', 'Risco_Medio',\n",
              "       'Risco_Medio', 'Risco_Medio', 'Risco_Medio', 'Risco_Medio',\n",
              "       'Risco_Medio', 'Risco_Medio', 'Risco_Medio', 'Risco_Medio',\n",
              "       'Risco_Medio', 'Risco_Medio', 'Risco_Medio', 'Risco_Medio',\n",
              "       'Risco_Medio', 'Risco_Medio', 'Risco_Medio', 'Risco_Medio',\n",
              "       'Risco_Medio', 'Risco_Medio', 'Risco_Medio', 'Risco_Medio',\n",
              "       'Risco_Medio', 'Risco_Medio', 'Risco_Medio', 'Risco_Medio',\n",
              "       'Risco_Medio', 'Risco_Medio', 'Risco_Medio', 'Risco_Medio',\n",
              "       'Risco_Baixo', 'Risco_Baixo', 'Risco_Baixo', 'Risco_Baixo',\n",
              "       'Risco_Baixo', 'Risco_Baixo', 'Risco_Baixo', 'Risco_Baixo',\n",
              "       'Risco_Baixo', 'Risco_Baixo', 'Risco_Baixo', 'Risco_Baixo',\n",
              "       'Risco_Baixo', 'Risco_Baixo', 'Risco_Baixo', 'Risco_Baixo',\n",
              "       'Risco_Baixo', 'Risco_Baixo', 'Risco_Baixo', 'Risco_Baixo',\n",
              "       'Risco_Baixo', 'Risco_Baixo', 'Risco_Baixo', 'Risco_Baixo',\n",
              "       'Risco_Baixo', 'Risco_Baixo', 'Risco_Baixo', 'Risco_Baixo',\n",
              "       'Risco_Baixo', 'Risco_Baixo', 'Risco_Baixo', 'Risco_Baixo',\n",
              "       'Risco_Baixo', 'Risco_Baixo', 'Risco_Baixo', 'Risco_Baixo',\n",
              "       'Risco_Baixo', 'Risco_Baixo', 'Risco_Baixo', 'Risco_Baixo',\n",
              "       'Risco_Baixo', 'Risco_Baixo', 'Risco_Baixo', 'Risco_Baixo',\n",
              "       'Risco_Baixo', 'Risco_Baixo', 'Risco_Baixo', 'Risco_Baixo',\n",
              "       'Risco_Baixo', 'Risco_Baixo'], dtype=object)"
            ]
          },
          "metadata": {
            "tags": []
          },
          "execution_count": 22
        }
      ]
    },
    {
      "cell_type": "markdown",
      "metadata": {
        "id": "TyrZDLaZku9L"
      },
      "source": [
        "### Separando os dados entre Treino e Teste"
      ]
    },
    {
      "cell_type": "code",
      "metadata": {
        "id": "Q95yEPVNku9O"
      },
      "source": [
        "#Divide o dataset em Train and Test \n",
        "X_train, X_test, y_train, y_test = train_test_split(X ,y, test_size=0.2, random_state = 7) "
      ],
      "execution_count": 23,
      "outputs": []
    },
    {
      "cell_type": "code",
      "metadata": {
        "id": "YcY06YGDn_dz",
        "colab": {
          "base_uri": "https://localhost:8080/"
        },
        "outputId": "426de43d-e52c-4942-e228-9deaf42f3ddf"
      },
      "source": [
        "print(\"Dados de Treino :\\n----------------\\n\")\n",
        "print(\"X = \\n\", X_train[:2])\n",
        "print(\"y = \\n\", y_train[:2])\n",
        "\n",
        "print(\"\\n\\nDados de Teste :\\n----------------\\n\")\n",
        "print(\"X = \\n\",X_test[:2])\n",
        "print(\"y = \\n\", y_test[:2])"
      ],
      "execution_count": 24,
      "outputs": [
        {
          "output_type": "stream",
          "text": [
            "Dados de Treino :\n",
            "----------------\n",
            "\n",
            "X = \n",
            " [[6.2 2.8 4.8 1.8]\n",
            " [5.7 2.6 3.5 1. ]]\n",
            "y = \n",
            " ['Risco_Baixo' 'Risco_Medio']\n",
            "\n",
            "\n",
            "Dados de Teste :\n",
            "----------------\n",
            "\n",
            "X = \n",
            " [[5.9 3.  5.1 1.8]\n",
            " [5.4 3.  4.5 1.5]]\n",
            "y = \n",
            " ['Risco_Baixo' 'Risco_Medio']\n"
          ],
          "name": "stdout"
        }
      ]
    },
    {
      "cell_type": "code",
      "metadata": {
        "id": "TYVfb2fJku9U",
        "colab": {
          "base_uri": "https://localhost:8080/"
        },
        "outputId": "9c778473-a4ac-4659-b003-5deeb6a89e1c"
      },
      "source": [
        "print(f\"Shape dos dados de treino é {X_train.shape}\")\n",
        "print(f\"Shape dos dados de teste é {X_test.shape}\")"
      ],
      "execution_count": 25,
      "outputs": [
        {
          "output_type": "stream",
          "text": [
            "Shape dos dados de treino é (120, 4)\n",
            "Shape dos dados de teste é (30, 4)\n"
          ],
          "name": "stdout"
        }
      ]
    },
    {
      "cell_type": "markdown",
      "metadata": {
        "id": "8prDFmADku9W"
      },
      "source": [
        "### Padronizando as Features - As variáveis explicativas (variáveis de entrada)\n"
      ]
    },
    {
      "cell_type": "code",
      "metadata": {
        "id": "HVa6cZd8ku9W",
        "colab": {
          "base_uri": "https://localhost:8080/"
        },
        "outputId": "3d0f1ae9-d557-4777-bc27-cf6ee8b22932"
      },
      "source": [
        "#Redimensionando os dados - PADRONIZAÇÂO - Feature scaling\n",
        "from sklearn.preprocessing import StandardScaler\n",
        "sc = StandardScaler()\n",
        "\n",
        "X_train = sc.fit_transform(X_train)\n",
        "X_test = sc.transform(X_test) \n",
        "\n",
        "print(\"\\n--------------------------------\\nDataset depois da padronização:\\n--------------------------------\\n\", )\n",
        "\n",
        "print(\"\\nX_train :\\n\", X_train[:5])\n",
        "print(\"-------------------------\")\n",
        "print(\"\\nX_test :\\n\", X_test[:5])"
      ],
      "execution_count": 26,
      "outputs": [
        {
          "output_type": "stream",
          "text": [
            "\n",
            "--------------------------------\n",
            "Dataset depois da padronização:\n",
            "--------------------------------\n",
            "\n",
            "\n",
            "X_train :\n",
            " [[ 0.43325894 -0.59653573  0.62601116  0.82081788]\n",
            " [-0.15754871 -1.05688485 -0.09737951 -0.21464226]\n",
            " [-1.45732553  1.24486074 -1.48851543 -1.2501024 ]\n",
            " [ 1.26038965  0.09398794  0.95988378  1.20911544]\n",
            " [ 0.669582   -0.36636117  0.34778398  0.17365529]]\n",
            "-------------------------\n",
            "\n",
            "X_test :\n",
            " [[ 0.07877435 -0.13618661  0.79294747  0.82081788]\n",
            " [-0.51203329 -0.13618661  0.45907485  0.43252033]\n",
            " [-0.98467941  1.01468618 -1.32157912 -1.12066988]\n",
            " [-0.27571024 -0.13618661  0.45907485  0.43252033]\n",
            " [-1.10284094 -1.28705941  0.45907485  0.69138537]]\n"
          ],
          "name": "stdout"
        }
      ]
    },
    {
      "cell_type": "markdown",
      "metadata": {
        "id": "XcDuCbTG2PSi"
      },
      "source": [
        "# <font color='Black'> **Aula 2 - Construíndo Máquinas Preditivas** </font>"
      ]
    },
    {
      "cell_type": "markdown",
      "metadata": {
        "id": "Y3rduQxEku9Y"
      },
      "source": [
        "# 4° Construindo a Máquina Preditiva"
      ]
    },
    {
      "cell_type": "markdown",
      "metadata": {
        "id": "V4DWJ3hGhqEp"
      },
      "source": [
        "### 1° Versão da Máquina Preditiva: Criando um **baseline**\n",
        "\n",
        "Aqui nós vamos criar a primeira versão da Máquina Preditiva. Depois, vamos buscar formas de melhorar a assertividade do modelo. "
      ]
    },
    {
      "cell_type": "code",
      "metadata": {
        "id": "8XbYFyk8oCrH"
      },
      "source": [
        "# Importando a Biblioteca KNN\n",
        "from sklearn.neighbors import KNeighborsClassifier\n",
        "Maquina_Preditiva = KNeighborsClassifier(n_neighbors=30) #[1,10,30,50]\n",
        "\n"
      ],
      "execution_count": null,
      "outputs": []
    },
    {
      "cell_type": "code",
      "metadata": {
        "id": "YFbVAkiOyMxG"
      },
      "source": [
        "#Treinando a Máquina preditiva com os dados de treino\n",
        "Maquina_Preditiva = Maquina_Preditiva.fit(X_train,y_train)\n",
        "\n"
      ],
      "execution_count": null,
      "outputs": []
    },
    {
      "cell_type": "code",
      "metadata": {
        "id": "BBGyF8-OyQMi",
        "colab": {
          "base_uri": "https://localhost:8080/"
        },
        "outputId": "ad4d05de-b206-419a-a659-c185eb7e1e8d"
      },
      "source": [
        "#Fazendo novas Previsões com os dados de teste\n",
        "y_pred = Maquina_Preditiva.predict(X_test)\n",
        "\n",
        "\n",
        "print(\"\\n---------------------------\\n\")\n",
        "print(\"Valores Reais com dados de teste :\\n\",y_test)\n",
        "\n",
        "print(\"\\n---------------------------\\n\")\n",
        "print(\"Valores Preditos com a Máquina Preditiva com dados de Teste :\\n\",y_pred)"
      ],
      "execution_count": null,
      "outputs": [
        {
          "output_type": "stream",
          "text": [
            "\n",
            "---------------------------\n",
            "\n",
            "Valores Reais com dados de teste :\n",
            " ['Risco_Baixo' 'Risco_Medio' 'Risco_Alto' 'Risco_Medio' 'Risco_Baixo'\n",
            " 'Risco_Alto' 'Risco_Medio' 'Risco_Medio' 'Risco_Alto' 'Risco_Medio'\n",
            " 'Risco_Medio' 'Risco_Medio' 'Risco_Alto' 'Risco_Baixo' 'Risco_Alto'\n",
            " 'Risco_Medio' 'Risco_Baixo' 'Risco_Baixo' 'Risco_Alto' 'Risco_Alto'\n",
            " 'Risco_Medio' 'Risco_Baixo' 'Risco_Medio' 'Risco_Baixo' 'Risco_Baixo'\n",
            " 'Risco_Baixo' 'Risco_Medio' 'Risco_Medio' 'Risco_Baixo' 'Risco_Baixo']\n",
            "\n",
            "---------------------------\n",
            "\n",
            "Valores Preditos com a Máquina Preditiva com dados de Teste :\n",
            " ['Risco_Baixo' 'Risco_Medio' 'Risco_Alto' 'Risco_Medio' 'Risco_Medio'\n",
            " 'Risco_Alto' 'Risco_Baixo' 'Risco_Medio' 'Risco_Alto' 'Risco_Medio'\n",
            " 'Risco_Baixo' 'Risco_Medio' 'Risco_Alto' 'Risco_Baixo' 'Risco_Alto'\n",
            " 'Risco_Baixo' 'Risco_Baixo' 'Risco_Baixo' 'Risco_Alto' 'Risco_Alto'\n",
            " 'Risco_Medio' 'Risco_Baixo' 'Risco_Medio' 'Risco_Medio' 'Risco_Baixo'\n",
            " 'Risco_Medio' 'Risco_Medio' 'Risco_Medio' 'Risco_Baixo' 'Risco_Baixo']\n"
          ],
          "name": "stdout"
        }
      ]
    },
    {
      "cell_type": "code",
      "metadata": {
        "id": "rPjCYxIm4yib",
        "colab": {
          "base_uri": "https://localhost:8080/"
        },
        "outputId": "93ab743f-bfc3-45cc-de71-b5b37ba8e731"
      },
      "source": [
        "#Função que mostra os hyperparâmetros utilizados na construção da Máquina Preditiva \n",
        "Maquina_Preditiva.get_params"
      ],
      "execution_count": null,
      "outputs": [
        {
          "output_type": "execute_result",
          "data": {
            "text/plain": [
              "<bound method BaseEstimator.get_params of KNeighborsClassifier(algorithm='auto', leaf_size=30, metric='minkowski',\n",
              "                     metric_params=None, n_jobs=None, n_neighbors=30, p=2,\n",
              "                     weights='uniform')>"
            ]
          },
          "metadata": {
            "tags": []
          },
          "execution_count": 29
        }
      ]
    },
    {
      "cell_type": "markdown",
      "metadata": {
        "id": "7zs6B8NF5asB"
      },
      "source": [
        "#5° Avaliando a Máquina Preditiva"
      ]
    },
    {
      "cell_type": "code",
      "metadata": {
        "id": "ZAwiJVWuoHEX",
        "colab": {
          "base_uri": "https://localhost:8080/"
        },
        "outputId": "69374b9e-79fb-4ce5-c95d-9e2e94806b58"
      },
      "source": [
        "# Calculando a Acurácia\n",
        "from sklearn import metrics\n",
        "print(\"Acurácia da Máquina = \", metrics.accuracy_score(y_test, y_pred)*100)"
      ],
      "execution_count": null,
      "outputs": [
        {
          "output_type": "stream",
          "text": [
            "Acurácia da Máquina =  80.0\n"
          ],
          "name": "stdout"
        }
      ]
    },
    {
      "cell_type": "code",
      "metadata": {
        "id": "dIlExZQVjiTL",
        "colab": {
          "base_uri": "https://localhost:8080/",
          "height": 267
        },
        "outputId": "85ab3b32-3b08-4b59-95f7-8db62e992742"
      },
      "source": [
        "# Comparando Real e Predito com dados de Teste\n",
        "print(\"\\nReal vs Predito \\n------------------------------\\n\")\n",
        "error_df = pd.DataFrame({\"Real\" : y_test,\n",
        "                         \"Predito\" : y_pred})\n",
        "\n",
        "error_df.head(5)"
      ],
      "execution_count": null,
      "outputs": [
        {
          "output_type": "stream",
          "text": [
            "\n",
            "Real vs Predito \n",
            "------------------------------\n",
            "\n"
          ],
          "name": "stdout"
        },
        {
          "output_type": "execute_result",
          "data": {
            "text/html": [
              "<div>\n",
              "<style scoped>\n",
              "    .dataframe tbody tr th:only-of-type {\n",
              "        vertical-align: middle;\n",
              "    }\n",
              "\n",
              "    .dataframe tbody tr th {\n",
              "        vertical-align: top;\n",
              "    }\n",
              "\n",
              "    .dataframe thead th {\n",
              "        text-align: right;\n",
              "    }\n",
              "</style>\n",
              "<table border=\"1\" class=\"dataframe\">\n",
              "  <thead>\n",
              "    <tr style=\"text-align: right;\">\n",
              "      <th></th>\n",
              "      <th>Real</th>\n",
              "      <th>Predito</th>\n",
              "    </tr>\n",
              "  </thead>\n",
              "  <tbody>\n",
              "    <tr>\n",
              "      <th>0</th>\n",
              "      <td>Risco_Baixo</td>\n",
              "      <td>Risco_Baixo</td>\n",
              "    </tr>\n",
              "    <tr>\n",
              "      <th>1</th>\n",
              "      <td>Risco_Medio</td>\n",
              "      <td>Risco_Medio</td>\n",
              "    </tr>\n",
              "    <tr>\n",
              "      <th>2</th>\n",
              "      <td>Risco_Alto</td>\n",
              "      <td>Risco_Alto</td>\n",
              "    </tr>\n",
              "    <tr>\n",
              "      <th>3</th>\n",
              "      <td>Risco_Medio</td>\n",
              "      <td>Risco_Medio</td>\n",
              "    </tr>\n",
              "    <tr>\n",
              "      <th>4</th>\n",
              "      <td>Risco_Baixo</td>\n",
              "      <td>Risco_Medio</td>\n",
              "    </tr>\n",
              "  </tbody>\n",
              "</table>\n",
              "</div>"
            ],
            "text/plain": [
              "          Real      Predito\n",
              "0  Risco_Baixo  Risco_Baixo\n",
              "1  Risco_Medio  Risco_Medio\n",
              "2   Risco_Alto   Risco_Alto\n",
              "3  Risco_Medio  Risco_Medio\n",
              "4  Risco_Baixo  Risco_Medio"
            ]
          },
          "metadata": {
            "tags": []
          },
          "execution_count": 31
        }
      ]
    },
    {
      "cell_type": "code",
      "metadata": {
        "id": "LVbeqzMaku9f",
        "colab": {
          "base_uri": "https://localhost:8080/"
        },
        "outputId": "9f236a46-8ffd-469f-ad4f-aa7b98a9ddfe"
      },
      "source": [
        "#Usando a confusion matrix  e o classification report para avaliar a acurácia e demais indicadores\n",
        "from sklearn.metrics import confusion_matrix, classification_report\n",
        "from sklearn import metrics\n",
        "\n",
        "print(\"Acurácia da Máquina = \", metrics.accuracy_score(y_test, y_pred)*100)\n",
        "cm = confusion_matrix(y_test,y_pred)\n",
        "cr = classification_report(y_test, y_pred)\n",
        "print(cm)\n",
        "print(cr)"
      ],
      "execution_count": null,
      "outputs": [
        {
          "output_type": "stream",
          "text": [
            "Acurácia da Máquina =  80.0\n",
            "[[7 0 0]\n",
            " [0 8 3]\n",
            " [0 3 9]]\n",
            "              precision    recall  f1-score   support\n",
            "\n",
            "  Risco_Alto       1.00      1.00      1.00         7\n",
            " Risco_Baixo       0.73      0.73      0.73        11\n",
            " Risco_Medio       0.75      0.75      0.75        12\n",
            "\n",
            "    accuracy                           0.80        30\n",
            "   macro avg       0.83      0.83      0.83        30\n",
            "weighted avg       0.80      0.80      0.80        30\n",
            "\n"
          ],
          "name": "stdout"
        }
      ]
    },
    {
      "cell_type": "markdown",
      "metadata": {
        "id": "cUQ5JbQk56wl"
      },
      "source": [
        "### 2° Versão da Máquina Preditiva: Máquina Definitiva "
      ]
    },
    {
      "cell_type": "code",
      "metadata": {
        "id": "z9JPD4YM59KP"
      },
      "source": [
        "# Importando a Biblioteca do SVM\n",
        "from sklearn.svm import SVC\n",
        "classifier = SVC(kernel='linear',             # ['linear', 'rbf']\n",
        "                 gamma= 1e-5  ,               # [1e-1, 1e-2, 1e-3, 1e-5]\n",
        "                 C=10,                        # [10.0, 100.0, 1000.0, 10000.0]\n",
        "                 random_state=7)\n",
        "\n",
        "\n"
      ],
      "execution_count": null,
      "outputs": []
    },
    {
      "cell_type": "code",
      "metadata": {
        "id": "uRL7gP752471",
        "colab": {
          "base_uri": "https://localhost:8080/"
        },
        "outputId": "a585e0f7-1022-4457-9688-24f7ff167e05"
      },
      "source": [
        "#Treinando a Máquina com o SVC\n",
        "classifier.fit(X_train,y_train)\n",
        "\n"
      ],
      "execution_count": null,
      "outputs": [
        {
          "output_type": "execute_result",
          "data": {
            "text/plain": [
              "SVC(C=10, break_ties=False, cache_size=200, class_weight=None, coef0=0.0,\n",
              "    decision_function_shape='ovr', degree=3, gamma=1e-05, kernel='linear',\n",
              "    max_iter=-1, probability=False, random_state=7, shrinking=True, tol=0.001,\n",
              "    verbose=False)"
            ]
          },
          "metadata": {
            "tags": []
          },
          "execution_count": 34
        }
      ]
    },
    {
      "cell_type": "code",
      "metadata": {
        "id": "lNEz5Vc527Ez",
        "colab": {
          "base_uri": "https://localhost:8080/"
        },
        "outputId": "4dfa443f-270c-4f6d-bb40-e6b9ea152b57"
      },
      "source": [
        "#Fazendo novas previsões com os dados de teste\n",
        "y_pred = classifier.predict(X_test)\n",
        "\n",
        "print(\"\\n---------------------------\\n\")\n",
        "print(\"Predicted Values for Test Set :\\n\",y_pred)\n",
        "print(\"\\n---------------------------\\n\")\n",
        "print(\"Actual Values for Test Set :\\n\",y_test)"
      ],
      "execution_count": null,
      "outputs": [
        {
          "output_type": "stream",
          "text": [
            "\n",
            "---------------------------\n",
            "\n",
            "Predicted Values for Test Set :\n",
            " ['Risco_Baixo' 'Risco_Medio' 'Risco_Alto' 'Risco_Medio' 'Risco_Baixo'\n",
            " 'Risco_Alto' 'Risco_Medio' 'Risco_Medio' 'Risco_Alto' 'Risco_Medio'\n",
            " 'Risco_Baixo' 'Risco_Medio' 'Risco_Alto' 'Risco_Baixo' 'Risco_Alto'\n",
            " 'Risco_Baixo' 'Risco_Baixo' 'Risco_Baixo' 'Risco_Alto' 'Risco_Alto'\n",
            " 'Risco_Medio' 'Risco_Baixo' 'Risco_Medio' 'Risco_Baixo' 'Risco_Baixo'\n",
            " 'Risco_Baixo' 'Risco_Medio' 'Risco_Medio' 'Risco_Baixo' 'Risco_Baixo']\n",
            "\n",
            "---------------------------\n",
            "\n",
            "Actual Values for Test Set :\n",
            " ['Risco_Baixo' 'Risco_Medio' 'Risco_Alto' 'Risco_Medio' 'Risco_Baixo'\n",
            " 'Risco_Alto' 'Risco_Medio' 'Risco_Medio' 'Risco_Alto' 'Risco_Medio'\n",
            " 'Risco_Medio' 'Risco_Medio' 'Risco_Alto' 'Risco_Baixo' 'Risco_Alto'\n",
            " 'Risco_Medio' 'Risco_Baixo' 'Risco_Baixo' 'Risco_Alto' 'Risco_Alto'\n",
            " 'Risco_Medio' 'Risco_Baixo' 'Risco_Medio' 'Risco_Baixo' 'Risco_Baixo'\n",
            " 'Risco_Baixo' 'Risco_Medio' 'Risco_Medio' 'Risco_Baixo' 'Risco_Baixo']\n"
          ],
          "name": "stdout"
        }
      ]
    },
    {
      "cell_type": "code",
      "metadata": {
        "id": "i55vwLwQQh2f",
        "colab": {
          "base_uri": "https://localhost:8080/"
        },
        "outputId": "9f378822-e7b4-4d1e-b310-ee5fc10aa6ed"
      },
      "source": [
        "#Imprimindo os hyperparâmetros utilizados na criação da Maquina Preditiva Definitiva\n",
        "classifier"
      ],
      "execution_count": null,
      "outputs": [
        {
          "output_type": "execute_result",
          "data": {
            "text/plain": [
              "SVC(C=10, break_ties=False, cache_size=200, class_weight=None, coef0=0.0,\n",
              "    decision_function_shape='ovr', degree=3, gamma=1e-05, kernel='linear',\n",
              "    max_iter=-1, probability=False, random_state=7, shrinking=True, tol=0.001,\n",
              "    verbose=False)"
            ]
          },
          "metadata": {
            "tags": []
          },
          "execution_count": 36
        }
      ]
    },
    {
      "cell_type": "code",
      "metadata": {
        "id": "ibAFbOsE59KT",
        "colab": {
          "base_uri": "https://localhost:8080/",
          "height": 285
        },
        "outputId": "2737b9f3-43a2-4fe7-dda9-50aa3c1dfdc0"
      },
      "source": [
        "# Calculando a Acurácia da Máquina Preditiva\n",
        "from sklearn import metrics\n",
        "print(\"Prediction Accuracy = \", metrics.accuracy_score(y_test, y_pred))\n",
        "\n",
        "# Comparando valores Reais com Preditos pela Máquina\n",
        "print(\"\\nActual vs Predicted  \\n------------------------------\\n\")\n",
        "error_df = pd.DataFrame({\"Actual\" : y_test,\n",
        "                         \"Predicted\" : y_pred})\n",
        "\n",
        "error_df.head(5)"
      ],
      "execution_count": null,
      "outputs": [
        {
          "output_type": "stream",
          "text": [
            "Prediction Accuracy =  0.9333333333333333\n",
            "\n",
            "Actual vs Predicted  \n",
            "------------------------------\n",
            "\n"
          ],
          "name": "stdout"
        },
        {
          "output_type": "execute_result",
          "data": {
            "text/html": [
              "<div>\n",
              "<style scoped>\n",
              "    .dataframe tbody tr th:only-of-type {\n",
              "        vertical-align: middle;\n",
              "    }\n",
              "\n",
              "    .dataframe tbody tr th {\n",
              "        vertical-align: top;\n",
              "    }\n",
              "\n",
              "    .dataframe thead th {\n",
              "        text-align: right;\n",
              "    }\n",
              "</style>\n",
              "<table border=\"1\" class=\"dataframe\">\n",
              "  <thead>\n",
              "    <tr style=\"text-align: right;\">\n",
              "      <th></th>\n",
              "      <th>Actual</th>\n",
              "      <th>Predicted</th>\n",
              "    </tr>\n",
              "  </thead>\n",
              "  <tbody>\n",
              "    <tr>\n",
              "      <th>0</th>\n",
              "      <td>Risco_Baixo</td>\n",
              "      <td>Risco_Baixo</td>\n",
              "    </tr>\n",
              "    <tr>\n",
              "      <th>1</th>\n",
              "      <td>Risco_Medio</td>\n",
              "      <td>Risco_Medio</td>\n",
              "    </tr>\n",
              "    <tr>\n",
              "      <th>2</th>\n",
              "      <td>Risco_Alto</td>\n",
              "      <td>Risco_Alto</td>\n",
              "    </tr>\n",
              "    <tr>\n",
              "      <th>3</th>\n",
              "      <td>Risco_Medio</td>\n",
              "      <td>Risco_Medio</td>\n",
              "    </tr>\n",
              "    <tr>\n",
              "      <th>4</th>\n",
              "      <td>Risco_Baixo</td>\n",
              "      <td>Risco_Baixo</td>\n",
              "    </tr>\n",
              "  </tbody>\n",
              "</table>\n",
              "</div>"
            ],
            "text/plain": [
              "        Actual    Predicted\n",
              "0  Risco_Baixo  Risco_Baixo\n",
              "1  Risco_Medio  Risco_Medio\n",
              "2   Risco_Alto   Risco_Alto\n",
              "3  Risco_Medio  Risco_Medio\n",
              "4  Risco_Baixo  Risco_Baixo"
            ]
          },
          "metadata": {
            "tags": []
          },
          "execution_count": 38
        }
      ]
    },
    {
      "cell_type": "code",
      "metadata": {
        "id": "MnVF8dG7qvlq"
      },
      "source": [
        "\n",
        "#Usando a confusion matrix e o classification report para avaliar a Máquina\n",
        "from sklearn.metrics import confusion_matrix, classification_report\n",
        "\n",
        "cm = confusion_matrix(y_test,y_pred)\n",
        "cr = classification_report(y_test, y_pred)"
      ],
      "execution_count": null,
      "outputs": []
    },
    {
      "cell_type": "code",
      "metadata": {
        "id": "e3b7ZZOb6KkW",
        "colab": {
          "base_uri": "https://localhost:8080/"
        },
        "outputId": "6f89463f-8e95-4d59-c0dc-d9da56a85138"
      },
      "source": [
        "# Imprimindo a Confusion Matrix e o Classification Report\n",
        "print(cm)\n",
        "print(cr)"
      ],
      "execution_count": null,
      "outputs": [
        {
          "output_type": "stream",
          "text": [
            "[[ 7  0  0]\n",
            " [ 0 11  0]\n",
            " [ 0  2 10]]\n",
            "              precision    recall  f1-score   support\n",
            "\n",
            "  Risco_Alto       1.00      1.00      1.00         7\n",
            " Risco_Baixo       0.85      1.00      0.92        11\n",
            " Risco_Medio       1.00      0.83      0.91        12\n",
            "\n",
            "    accuracy                           0.93        30\n",
            "   macro avg       0.95      0.94      0.94        30\n",
            "weighted avg       0.94      0.93      0.93        30\n",
            "\n"
          ],
          "name": "stdout"
        }
      ]
    },
    {
      "cell_type": "markdown",
      "metadata": {
        "id": "PpHbZsBZ2aDB"
      },
      "source": [
        "# <font color='Black'> **Aula 3 - Criando uma Aplicação WEB com sua Máquina Preditiva** </font>"
      ]
    },
    {
      "cell_type": "markdown",
      "metadata": {
        "id": "LI4TUsUJ0u66"
      },
      "source": [
        "# <font color='Blue'>6° Deploy - Implementando a Maquina Preditiva na WEB</font>\n"
      ]
    },
    {
      "cell_type": "markdown",
      "metadata": {
        "id": "l8D_ZDsg9vVA"
      },
      "source": [
        "### **Passo a Passo** Implementação do Sistema de Classificação de Risco do Cliente:"
      ]
    },
    {
      "cell_type": "markdown",
      "metadata": {
        "id": "krpsXQ4v99Nt"
      },
      "source": [
        "**1°** Realizar o download da ferramenta \"Visual Studio Code\" no link abaixo:\n",
        "\n",
        "https://code.visualstudio.com/"
      ]
    },
    {
      "cell_type": "markdown",
      "metadata": {
        "id": "bzM_pbgf-ROm"
      },
      "source": [
        "**2°** Instalar a ferramenta: Clicar em \"next\" e \"finish\" (simples assim...)"
      ]
    },
    {
      "cell_type": "markdown",
      "metadata": {
        "id": "UtiXb1Yz-bkD"
      },
      "source": [
        "**3°** Criar um diretório \"app\" no seu Drive \"C\"\n",
        "\n",
        "Ex: **C:\\app**"
      ]
    },
    {
      "cell_type": "markdown",
      "metadata": {
        "id": "5ARouQgp-9Ph"
      },
      "source": [
        "**4°** Fazer o Download da pasta \"maratona\" disponibilizada na página da maratona e via Canal no Telegram."
      ]
    },
    {
      "cell_type": "markdown",
      "metadata": {
        "id": "4wAWIcsW_Lej"
      },
      "source": [
        "**5°** Salvar essa pasta dentro do diretório app. \n",
        "\n",
        "Ex: **C:\\app\\maratona** \n",
        "\n",
        "\n",
        "\n",
        "**Obs:** dentro da pasta maratona temos 3 arquivos:\n",
        "\n",
        "1° risco.csv                           - Nossa fonte de dados\n",
        "\n",
        "2° app_risco.py                        - Nosso Aplicativo web\n",
        "\n",
        "3° Sistema_Classificação_Risco.ipynb   - Nosso Script de Criação da Máquina Preditiva"
      ]
    },
    {
      "cell_type": "markdown",
      "metadata": {
        "id": "KDvZd3apAP3y"
      },
      "source": [
        "**6°** Abrir o VS Code e clicar no menu \"File\", depois \"Open Folder\" e vai navegar até o diretório **\"C:\\app\\maratona\"**"
      ]
    },
    {
      "cell_type": "markdown",
      "metadata": {
        "id": "b-__AxU9AqHc"
      },
      "source": [
        "**7°** Vai no menu \"terminal\", depois \"New Terminal\". Perceba que vai abrir, lá embaixo, um terminal de comando, tipo o \"CMD\" (tela preta) do windows."
      ]
    },
    {
      "cell_type": "markdown",
      "metadata": {
        "id": "zT8U4OWWBJ7I"
      },
      "source": [
        "**8°** executar os seguinte comandos:\n",
        "\n",
        "a) pip install plotly     +  tecla enter\n",
        "\n",
        "b) pip install streamlit  +  tecla enter\n"
      ]
    },
    {
      "cell_type": "markdown",
      "metadata": {
        "id": "L6smO8FC4oJk"
      },
      "source": [
        "9° Instalar o Anaconda\n",
        "\n",
        "https://www.anaconda.com/products/individual"
      ]
    },
    {
      "cell_type": "markdown",
      "metadata": {
        "id": "6YRxtNSgBteM"
      },
      "source": [
        "**10°** Executar o comando de abertura (no terminal do VS Code), do nosso LINDO sistema:\n",
        "\n",
        "   **streamlit run app_risco.py**\n",
        "\n",
        "obs: Nosso sistema vai abrir na WEB. Ver no seu navegador web."
      ]
    },
    {
      "cell_type": "markdown",
      "metadata": {
        "id": "6Mp2HsHhIj-c"
      },
      "source": [
        "# <font color='Black'> **Aula 4 - O GPS: Se tornando um Cientista de Dados** </font>"
      ]
    },
    {
      "cell_type": "markdown",
      "metadata": {
        "id": "XTRc7NjBKG65"
      },
      "source": [
        "# Fim"
      ]
    },
    {
      "cell_type": "markdown",
      "metadata": {
        "id": "jqsLo_Bd1l1G"
      },
      "source": [
        "![alt text](https://miro.medium.com/max/625/1*XBWI6eNVLS_70s1qS46E1w.gif)"
      ]
    },
    {
      "cell_type": "markdown",
      "metadata": {
        "id": "_fHqFSvWe94c"
      },
      "source": [
        "## Valeu!"
      ]
    },
    {
      "cell_type": "markdown",
      "metadata": {
        "id": "2r1o8LDDzj16"
      },
      "source": [
        "### #Links - Ciência dos Dados <a href=\"https://linktr.ee/cienciadosdados\">https://linktr.ee/cienciadosdados</a>"
      ]
    }
  ]
}